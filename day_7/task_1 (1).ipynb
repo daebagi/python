{
 "cells": [
  {
   "cell_type": "markdown",
   "metadata": {
    "id": "BYLtsIGDzcI3"
   },
   "source": [
    "안녕하세요. 수강생 여러분~! Chapter33 ~ 41 수업은 잘 들으셨나요?\n",
    "\n",
    "Chapter33 ~ 41의 수업 내용을 바탕으로 아래 문제를 풀어주시면 됩니다.\n",
    "\n",
    "\n",
    "<br>\n",
    "\n",
    "\n",
    "[**답변 입력 방법**]\n",
    "\n",
    "문제 아래에 있는 코드 입력창에 정답코드를 작성하신 후  __▷ 버튼을 클릭해 코드를 실행__ 해보세요<br>"
   ]
  },
  {
   "cell_type": "markdown",
   "metadata": {
    "id": "T-7QH1_TzcI4"
   },
   "source": [
    "---"
   ]
  },
  {
   "cell_type": "markdown",
   "metadata": {
    "id": "zJ4b_kwfzcI4"
   },
   "source": [
    "[문제 1]\n",
    "\n",
    "사용자로부터 두 개의 숫자를 입력받아 나눗셈을 수행하는 프로그램을 작성하세요.\n",
    "\n",
    "[예외처리]\n",
    "- 입력 값이 숫자가 아닐 때 발생할 수 있는 ValueError\n",
    "- 나누는 수가 0일 때 발생할 수 있는 ZeroDivisionError\n",
    "- 위 2가지 예외처리 후 사용자에게 이해하기 쉬운 메시지 작성 후 출력되도록 코드를 작성"
   ]
  },
  {
   "cell_type": "code",
   "execution_count": 14,
   "metadata": {
    "colab": {
     "base_uri": "https://localhost:8080/"
    },
    "executionInfo": {
     "elapsed": 2078,
     "status": "ok",
     "timestamp": 1752734095997,
     "user": {
      "displayName": "박대범",
      "userId": "08940215049612352458"
     },
     "user_tz": -540
    },
    "id": "bLLHKbp3zcI5",
    "outputId": "772a6fd4-7922-4677-b161-3427109a6790"
   },
   "outputs": [
    {
     "name": "stdout",
     "output_type": "stream",
     "text": [
      "두 개의 숫자를 입력하세요:안녕\n",
      "숫자를 입력해 주세요.\n"
     ]
    }
   ],
   "source": [
    "try:\n",
    "    x, y = map(int, input(\"두 개의 숫자를 입력하세요:\").split(\" \"))\n",
    "    print(x / y)\n",
    "\n",
    "except ValueError:\n",
    "        print(\"숫자를 입력해 주세요.\")\n",
    "except ZeroDivisionError:\n",
    "        print(\"0으로 나눌 수 없습니다.\")"
   ]
  },
  {
   "cell_type": "markdown",
   "metadata": {
    "id": "GkoPHd7jzcI5"
   },
   "source": [
    "---"
   ]
  },
  {
   "cell_type": "markdown",
   "metadata": {
    "id": "HrfEF_HkzcI5"
   },
   "source": [
    "[문제 2]\n",
    "\n",
    "파일을 읽어서 내용을 출력하는 프로그램을 작성하세요.\n",
    "\n",
    "- 파일이 존재하지 않을 때 발생하는 FileNotFoundError를 처리\n",
    "- 파일이 존재하지 않을 경우 \"파일을 찾을 수 없습니다.\"라는 메시지를 출력"
   ]
  },
  {
   "cell_type": "code",
   "execution_count": 21,
   "metadata": {
    "colab": {
     "base_uri": "https://localhost:8080/"
    },
    "executionInfo": {
     "elapsed": 9,
     "status": "ok",
     "timestamp": 1752734299784,
     "user": {
      "displayName": "박대범",
      "userId": "08940215049612352458"
     },
     "user_tz": -540
    },
    "id": "Eg6YgD5CzcI6",
    "outputId": "3b131f62-f55f-4d9c-9f0f-27b2a340a9cf"
   },
   "outputs": [
    {
     "name": "stdout",
     "output_type": "stream",
     "text": [
      "파일을 찾을 수 없습니다.\n"
     ]
    }
   ],
   "source": [
    "try:\n",
    "    with open(\"file.txt\", \"r\") as f:\n",
    "        print(f.read())\n",
    "except FileNotFoundError:\n",
    "    print(\"파일을 찾을 수 없습니다.\")\n"
   ]
  },
  {
   "cell_type": "markdown",
   "metadata": {
    "id": "U1wQ0-1ezcI6"
   },
   "source": [
    "---"
   ]
  },
  {
   "cell_type": "markdown",
   "metadata": {
    "id": "MZdNMkDozcI6"
   },
   "source": [
    "[문제 3]\n",
    "\n",
    "사용자로부터 여러 개의 숫자를 입력받아 리스트에 저장한 후, 사용자가 'done'이라고 입력할 때까지 계속 입력받으세요.\n",
    "\n",
    "- 입력 중 숫자가 아닌 값이 입력되면 ValueError를 처리\n",
    "- 숫자 외 값이 입력된 경우 어떤 값이 잘못 입력되었는지 사용자에게 알려주는 문구 출력<br>\n",
    "  (예: f\"잘못된 값: {변수}. 숫자를 입력해주세요.\")\n",
    "\n"
   ]
  },
  {
   "cell_type": "code",
   "execution_count": 24,
   "metadata": {
    "colab": {
     "base_uri": "https://localhost:8080/"
    },
    "executionInfo": {
     "elapsed": 8255,
     "status": "ok",
     "timestamp": 1752734783207,
     "user": {
      "displayName": "박대범",
      "userId": "08940215049612352458"
     },
     "user_tz": -540
    },
    "id": "9XvqXnJezcI7",
    "outputId": "5eb347c0-2dc3-4e1b-d256-7764a382e551"
   },
   "outputs": [
    {
     "name": "stdout",
     "output_type": "stream",
     "text": [
      "숫자를 입력하세요.('done'을 입력하면 종료): ㄹㅇㅁㄴ\n",
      "잘못된 값: ㄹㅇㅁㄴ. 숫자를 입력해주세요.\n",
      "숫자를 입력하세요.('done'을 입력하면 종료): 20\n",
      "숫자를 입력하세요.('done'을 입력하면 종료): 10\n",
      "숫자를 입력하세요.('done'을 입력하면 종료): 2\n",
      "숫자를 입력하세요.('done'을 입력하면 종료): done\n",
      "[20, 10, 2]\n"
     ]
    }
   ],
   "source": [
    "numbers = []\n",
    "\n",
    "while True:\n",
    "    user_numbers = input(\"숫자를 입력하세요.('done'을 입력하면 종료): \")\n",
    "    if user_numbers == \"done\":\n",
    "        break\n",
    "    try:\n",
    "        number = int(user_numbers)\n",
    "        numbers.append(number)\n",
    "    except ValueError:\n",
    "        print(f'잘못된 값: {user_numbers}. 숫자를 입력해주세요.')\n",
    "\n",
    "print(numbers)\n",
    "\n"
   ]
  },
  {
   "cell_type": "markdown",
   "metadata": {
    "id": "aRyzx_6SzcI7"
   },
   "source": [
    "---"
   ]
  },
  {
   "cell_type": "markdown",
   "metadata": {
    "id": "qgbGCPfvzcI7"
   },
   "source": [
    "[문제 4]\n",
    "\n",
    "사용자 정의 예외 NegativeNumberError를 생성하고, 사용자로부터 숫자를 입력받아 음수일 경우 NegativeNumberError를 발생시키는 프로그램을 작성하세요.\n",
    "\n",
    "- 예외 처리 구문을 사용하여 음수 입력 시 \"양수를 입력해주세요.\"라는 메시지를 출력"
   ]
  },
  {
   "cell_type": "code",
   "execution_count": 27,
   "metadata": {
    "colab": {
     "base_uri": "https://localhost:8080/"
    },
    "executionInfo": {
     "elapsed": 1562,
     "status": "ok",
     "timestamp": 1752735325081,
     "user": {
      "displayName": "박대범",
      "userId": "08940215049612352458"
     },
     "user_tz": -540
    },
    "id": "nGRZDMf7zcI7",
    "outputId": "c03da3e5-f869-4899-e421-6c7c5382c58d"
   },
   "outputs": [
    {
     "name": "stdout",
     "output_type": "stream",
     "text": [
      "숫자를 입력하세요: \n",
      "잘못된 값: . 숫자를 입력해주세요.\n"
     ]
    }
   ],
   "source": [
    "# gpt의 도움을 받고 정답이랑도 비교를 해봤는데, 정답에 있는 코드가 더 정교하고 확장성이 있다고 하더라구요.\n",
    "\n",
    "class NegativeNumberError(Exception):\n",
    "    pass\n",
    "\n",
    "try:\n",
    "    user_input = input(\"숫자를 입력하세요: \")\n",
    "    number = int(user_input)\n",
    "\n",
    "    if number < 0:\n",
    "        raise NegativeNumberError\n",
    "\n",
    "    print(f\"입력한 숫자: {number}\")\n",
    "\n",
    "except NegativeNumberError:\n",
    "    print(\"양수를 입력해주세요.\")\n",
    "except ValueError:\n",
    "    print(f\"잘못된 값: {user_input}. 숫자를 입력해주세요.\")"
   ]
  },
  {
   "cell_type": "markdown",
   "metadata": {
    "id": "BVAtNA0rzcI7"
   },
   "source": [
    "---"
   ]
  },
  {
   "cell_type": "markdown",
   "metadata": {
    "id": "58hSfcMSzcI7"
   },
   "source": [
    "[문제 5]\n",
    "\n",
    "datetime 모듈을 사용하여 현재 날짜와 시간을 출력하는 프로그램을 작성하세요.\n",
    "\n",
    "또한, 사용자로부터 태어난 년도를 입력받아 현재 나이를 계산하여 출력하세요."
   ]
  },
  {
   "cell_type": "code",
   "execution_count": 31,
   "metadata": {
    "colab": {
     "base_uri": "https://localhost:8080/"
    },
    "executionInfo": {
     "elapsed": 1511,
     "status": "ok",
     "timestamp": 1752735553047,
     "user": {
      "displayName": "박대범",
      "userId": "08940215049612352458"
     },
     "user_tz": -540
    },
    "id": "W3Sjav_gzcI8",
    "outputId": "f26f7dc0-d5af-4583-dce3-060d4afa105f"
   },
   "outputs": [
    {
     "name": "stdout",
     "output_type": "stream",
     "text": [
      "현재 날짜와 시간 :  2025-07-17 06:59:09.204645\n",
      "태어난 년도: 1998\n",
      "현재 나이:  28\n"
     ]
    }
   ],
   "source": [
    "import datetime\n",
    "\n",
    "now = datetime.datetime.now()\n",
    "print(\"현재 날짜와 시간 : \", now)\n",
    "\n",
    "user_year = int(input(\"태어난 년도: \"))\n",
    "age = now.year - user_year + 1\n",
    "print(\"현재 나이: \", age)"
   ]
  },
  {
   "cell_type": "markdown",
   "metadata": {
    "id": "wDxbe0mOzcI8"
   },
   "source": [
    "---"
   ]
  },
  {
   "cell_type": "markdown",
   "metadata": {
    "id": "Ng43igkVzcI8"
   },
   "source": [
    "[문제 6]\n",
    "\n",
    "requests 모듈을 사용하여, 웹 페이지의 HTML을 가져오는 간단한 웹 스크레이퍼를 작성하세요.\n",
    "\n",
    "'https://kream.co.kr/'에서<br>\n",
    "데이터를 가져와서 상태 코드와 HTML의 첫 100자를 출력하세요.<br>\n",
    "(실습 전 requests 모듈을 설치해야 함)"
   ]
  },
  {
   "cell_type": "code",
   "execution_count": null,
   "metadata": {
    "colab": {
     "base_uri": "https://localhost:8080/"
    },
    "executionInfo": {
     "elapsed": 10824,
     "status": "ok",
     "timestamp": 1752737052828,
     "user": {
      "displayName": "박대범",
      "userId": "08940215049612352458"
     },
     "user_tz": -540
    },
    "id": "G69NIolpzcI8",
    "outputId": "eb8fb24d-09ee-467d-c8f6-4efbf7a9807f"
   },
   "outputs": [
    {
     "name": "stdout",
     "output_type": "stream",
     "text": [
      "상태 코드: 500\n",
      "HTML 내용 (첫 100자): <!DOCTYPE html>\n",
      "<html lang=\"ko\">\n",
      "<head>\n",
      "<meta name=\"robots\" content=\"noindex, nofollow\" />\n",
      "<meta htt\n"
     ]
    }
   ],
   "source": [
    "import requests\n",
    "\n",
    "response = requests.get('https://kream.co.kr/')\n",
    "print(\"상태 코드:\", response.status_code)\n",
    "print(\"HTML 내용 (첫 100자):\", response.text[:100])\n",
    "\n",
    "# 아래 코드로는 HTTP 오류가 나서 User-Agent가 필요하다고 하더라구요. 너무 힘든 것 같아서 실행만 한번 해보고 말았습니다 ㅎ..\n",
    "\n",
    "# from urllib import request\n",
    "# from bs4 import BeautifulSoup\n",
    "\n",
    "# url = \"http://kream.co.kr\"\n",
    "\n",
    "# target = request.urlopen(url)\n",
    "\n",
    "# print(\"상태 코드:\", target.getcode())\n",
    "\n",
    "# html = target.read().decode('utf-8')\n",
    "\n",
    "# soup = BeautifulSoup(html, \"html.parser\")\n",
    "\n",
    "# print(\"HTML 내용 첫 100자:\", html[:100])\n",
    "\n",
    "# for location in soup.select(\"location\"):\n",
    "#     print(location.text)"
   ]
  },
  {
   "cell_type": "markdown",
   "metadata": {
    "id": "lm4jD2jazcI8"
   },
   "source": [
    "---"
   ]
  },
  {
   "cell_type": "markdown",
   "metadata": {
    "id": "A1-TNIcwzcI8"
   },
   "source": [
    "[문제 7]\n",
    "\n",
    "함수 실행 시간을 측정하는 데코레이터 timer_decorator를 작성하세요.\n",
    "\n",
    "임의의 함수가 실행되는 시간을 측정하여 \"함수 실행 시간: x.xx초\" 형태로 출력하세요."
   ]
  },
  {
   "cell_type": "code",
   "execution_count": null,
   "metadata": {
    "id": "ACJzVijIzcI8"
   },
   "outputs": [
    {
     "name": "stdout",
     "output_type": "stream",
     "text": [
      "함수 실행 시간: 0.02초\n"
     ]
    }
   ],
   "source": [
    "#이건 봐도봐도 모르겠어요....\n",
    "\n",
    "import time\n",
    "\n",
    "def timer_decorator(func):\n",
    "    def wrapper(*args, **kwargs):\n",
    "        start = time.time()\n",
    "        result = func(*args, **kwargs)\n",
    "        end = time.time()\n",
    "        print(f\"함수 실행 시간: {end - start:.2f}초\")\n",
    "        return result\n",
    "    return wrapper\n",
    "\n",
    "@timer_decorator\n",
    "def example():\n",
    "    for _ in range(1000000):\n",
    "        pass\n",
    "\n",
    "example()"
   ]
  },
  {
   "cell_type": "markdown",
   "metadata": {
    "id": "RLDEMIPlzcI8"
   },
   "source": [
    "---"
   ]
  },
  {
   "cell_type": "markdown",
   "metadata": {
    "id": "YGiUKtQizcI8"
   },
   "source": [
    "[문제 8]\n",
    "\n",
    "여러분이 자주 사용하는 수학적 연산<br>\n",
    "(예: 삼각형 넓이, 원의 넓이, 직육면체의 넓이)을 수행하는 함수들을 포함하는 mymath.py라는 이름의 모듈을 만드세요.\n",
    "\n",
    "이 모듈을 사용하여 작성된 함수들을 실제로 임포트하고 사용하는 간단한 프로그램을 작성하세요."
   ]
  },
  {
   "cell_type": "code",
   "execution_count": 16,
   "metadata": {
    "id": "CA1SR75SzcI8"
   },
   "outputs": [
    {
     "name": "stdout",
     "output_type": "stream",
     "text": [
      "삼각형 넓이: 5.0\n",
      "원의 넓이: 50.26548245743669\n",
      "직육면체 넓이: 142\n"
     ]
    }
   ],
   "source": [
    "import mymath\n",
    "\n",
    "print(\"삼각형 넓이:\", mymath.삼각형_넓이(2, 5))\n",
    "print(\"원의 넓이:\", mymath.원의_넓이(4))\n",
    "print(\"직육면체 넓이:\", mymath.직육면체의_넓이(5, 3, 7))"
   ]
  },
  {
   "cell_type": "markdown",
   "metadata": {
    "id": "9ePHvEGDzcI9"
   },
   "source": [
    "---"
   ]
  },
  {
   "cell_type": "markdown",
   "metadata": {
    "id": "FlYwkgJizcI9"
   },
   "source": [
    "[문제 9]\n",
    "\n",
    "animals라는 패키지를 만들고, 이 패키지 내에 mammals, birds라는 두 개의 서브 모듈을 생성하세요.\n",
    "\n",
    "- 각 모듈에는 최소한 한 개 이상의 동물에 관한 클래스를 정의하세요<br>\n",
    "  (예: mammals에는 Dog, birds에는 Eagle)\n",
    "- 이 패키지와 모듈을 사용하여 동물들의 정보를 출력하는 프로그램을 작성\n",
    "\n",
    "폴더 및 파일 구조\n",
    "```\n",
    "animals/(폴더)\n",
    "├── __init__.py\n",
    "├── mammals.py\n",
    "└── birds.py\n",
    "```\n"
   ]
  },
  {
   "cell_type": "code",
   "execution_count": 23,
   "metadata": {
    "id": "6Ve6ZMIIzcI9"
   },
   "outputs": [
    {
     "name": "stdout",
     "output_type": "stream",
     "text": [
      "귀여워\n",
      "멋있어\n"
     ]
    }
   ],
   "source": [
    "from animals.birds import Eagle\n",
    "from animals.mammals import Dog\n",
    "\n",
    "dog = Dog()\n",
    "eagle = Eagle()\n",
    "\n",
    "print(dog.info())\n",
    "print(eagle.info())"
   ]
  },
  {
   "cell_type": "markdown",
   "metadata": {
    "id": "mH_JT-3BzcI9"
   },
   "source": [
    "---"
   ]
  }
 ],
 "metadata": {
  "colab": {
   "provenance": []
  },
  "kernelspec": {
   "display_name": "Python 3",
   "name": "python3"
  },
  "language_info": {
   "codemirror_mode": {
    "name": "ipython",
    "version": 3
   },
   "file_extension": ".py",
   "mimetype": "text/x-python",
   "name": "python",
   "nbconvert_exporter": "python",
   "pygments_lexer": "ipython3",
   "version": "3.11.9"
  }
 },
 "nbformat": 4,
 "nbformat_minor": 0
}
