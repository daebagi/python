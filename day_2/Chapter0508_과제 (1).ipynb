{
 "cells": [
  {
   "cell_type": "markdown",
   "metadata": {
    "id": "WXEwMsfUct7U"
   },
   "source": [
    "안녕하세요.<br><br>\n",
    "수강생 여러분~! Chapter05 ~ 08 수업은 잘 들으셨나요?\n",
    "\n",
    "Chapter05 ~ 08의 수업 내용을 바탕으로 아래 문제를 풀어주시면 됩니다.\n",
    "\n",
    "<br>\n",
    "\n",
    "\n",
    "[**답변 입력 방법**]\n",
    "\n",
    "문제 아래에 있는 코드 입력창에 정답코드를 작성하신 후  __▷ 버튼을 클릭해 코드를 실행__ 해보세요<br>"
   ]
  },
  {
   "cell_type": "markdown",
   "metadata": {
    "id": "qoyC9wF-3hvs"
   },
   "source": [
    "-----"
   ]
  },
  {
   "cell_type": "markdown",
   "metadata": {
    "id": "lzdxDcg_GMxC"
   },
   "source": [
    "## 모험가들의 레벨업 도전\n",
    "\n",
    "### [배경 이야기]\n",
    "\n",
    "당신은 마법사, 전사, 도적, 힐러 네 명의 모험가를 이끄는 리더입니다.\n",
    "\n",
    "각 캐릭터는 힘, 민첩, 지능, 체력이라는 능력치를 가지고 있습니다. 이 능력치들을 이용해 다양한 도전을 해결하고 사냥을 통해 경험치를 얻어 레벨업을 해야 합니다.\n",
    "\n",
    "<br>\n",
    "\n",
    "### [동료 캐릭터와 능력치 정보]\n",
    "\n",
    "마법사: 힘(10), 민첩(20), 지능(80), 체력(50)\n",
    "\n",
    "전사: 힘(80), 민첩(30), 지능(20), 체력(100)\n",
    "\n",
    "도적: 힘(40), 민첩(80), 지능(30), 체력(60)\n",
    "\n",
    "힐러: 힘(20), 민첩(40), 지능(70), 체력(70)\n",
    "\n",
    "<br>\n",
    "\n",
    "* 변수명을 영어로 변경해서 풀어보세요 !"
   ]
  },
  {
   "cell_type": "code",
   "execution_count": 20,
   "metadata": {
    "executionInfo": {
     "elapsed": 10,
     "status": "ok",
     "timestamp": 1752132445022,
     "user": {
      "displayName": "박대범",
      "userId": "08940215049612352458"
     },
     "user_tz": -540
    },
    "id": "tUE1xhUfGPAd"
   },
   "outputs": [],
   "source": [
    "# 마법사 = mage, 전사 = warrior, 도적 = rogue, 힐러=healer\n",
    "# 힘 = str, 민첩 = dex, 지능 = int, 체력 = sta\n",
    "mage__str = 10\n",
    "mage__dex = 20\n",
    "mage__int = 80\n",
    "mage__sta = 50\n",
    "warrior__str = 80\n",
    "warrior__dex = 30\n",
    "warrior__int = 20\n",
    "warrior__sta = 100\n",
    "rouge__str = 40\n",
    "rouge__dex = 80\n",
    "rouge__int = 30\n",
    "rouge__sta = 60\n",
    "healer__str = 20\n",
    "healer__dex = 40\n",
    "healer__int = 70\n",
    "healer__sta = 70"
   ]
  },
  {
   "cell_type": "markdown",
   "metadata": {
    "id": "aOez5dJ6GMxD"
   },
   "source": [
    "<br>\n",
    "\n",
    "__[문제 1: 첫 번째 사냥]__\n",
    "\n",
    "마법사는 몬스터를 사냥하기 위해 마법을 사용합니다.\n",
    "\n",
    "마법을 사용하려면 지능이 50 이상이어야 합니다.\n",
    "\n",
    "마법사의 지능이 50 이상인지 확인하세요."
   ]
  },
  {
   "cell_type": "code",
   "execution_count": 24,
   "metadata": {
    "colab": {
     "base_uri": "https://localhost:8080/"
    },
    "executionInfo": {
     "elapsed": 10,
     "status": "ok",
     "timestamp": 1752135664612,
     "user": {
      "displayName": "박대범",
      "userId": "08940215049612352458"
     },
     "user_tz": -540
    },
    "id": "hrBYewE-GMxE",
    "outputId": "5f06bd82-127e-4fee-c61c-9f67e8e262db"
   },
   "outputs": [
    {
     "name": "stdout",
     "output_type": "stream",
     "text": [
      "True\n"
     ]
    }
   ],
   "source": [
    "use_magic = mage__int >=50\n",
    "print(use_magic)"
   ]
  },
  {
   "cell_type": "markdown",
   "metadata": {
    "id": "M17zqqOUGMxE"
   },
   "source": [
    "<br>\n",
    "\n",
    "__[문제 2: 두 번째 사냥]__\n",
    "\n",
    "전사는 강력한 공격을 하기 위해 자신의 힘을 사용합니다.\n",
    "\n",
    "전사의 힘이 60 이상이고 체력이 80 이상인지 확인하세요."
   ]
  },
  {
   "cell_type": "code",
   "execution_count": 25,
   "metadata": {
    "colab": {
     "base_uri": "https://localhost:8080/"
    },
    "executionInfo": {
     "elapsed": 18,
     "status": "ok",
     "timestamp": 1752135739379,
     "user": {
      "displayName": "박대범",
      "userId": "08940215049612352458"
     },
     "user_tz": -540
    },
    "id": "byTsdy_yGMxF",
    "outputId": "9d2a99c5-ecab-4a59-c6ec-aa11cb0a7a5e"
   },
   "outputs": [
    {
     "name": "stdout",
     "output_type": "stream",
     "text": [
      "True\n"
     ]
    }
   ],
   "source": [
    "attack = warrior__str >= 60 and warrior__sta >= 80\n",
    "print(attack)"
   ]
  },
  {
   "cell_type": "markdown",
   "metadata": {
    "id": "n4-_yUI1GMxF"
   },
   "source": [
    "<br>\n",
    "\n",
    "__[문제 3: 세 번째 사냥]__\n",
    "\n",
    "도적은 민첩함을 이용해 몬스터를 회피하고 공격합니다.\n",
    "\n",
    "도적의 민첩이 70 이상이거나 힘이 50 이상인지 확인하세요."
   ]
  },
  {
   "cell_type": "code",
   "execution_count": 26,
   "metadata": {
    "colab": {
     "base_uri": "https://localhost:8080/"
    },
    "executionInfo": {
     "elapsed": 18,
     "status": "ok",
     "timestamp": 1752135790901,
     "user": {
      "displayName": "박대범",
      "userId": "08940215049612352458"
     },
     "user_tz": -540
    },
    "id": "VqCXeG3tGMxG",
    "outputId": "7e34df55-fe84-4c99-bf42-fec6fdc77314"
   },
   "outputs": [
    {
     "name": "stdout",
     "output_type": "stream",
     "text": [
      "True\n"
     ]
    }
   ],
   "source": [
    "dodge = rouge__dex >=70 or rouge__str >= 50\n",
    "print(dodge)"
   ]
  },
  {
   "cell_type": "markdown",
   "metadata": {
    "id": "LvqeE2iGGMxG"
   },
   "source": [
    "<br>\n",
    "\n",
    "__[문제 4: 네 번째 사냥]__\n",
    "\n",
    "힐러는 파티의 체력을 회복시키기 위해 마법을 사용합니다.\n",
    "\n",
    "힐러의 지능이 60 이상이고, 체력이 50 이상인지 확인하세요."
   ]
  },
  {
   "cell_type": "code",
   "execution_count": 27,
   "metadata": {
    "colab": {
     "base_uri": "https://localhost:8080/"
    },
    "executionInfo": {
     "elapsed": 11,
     "status": "ok",
     "timestamp": 1752135839990,
     "user": {
      "displayName": "박대범",
      "userId": "08940215049612352458"
     },
     "user_tz": -540
    },
    "id": "lxKQSO5AGMxH",
    "outputId": "ee5cc932-96f5-4404-989f-f21b2c7bc00f"
   },
   "outputs": [
    {
     "name": "stdout",
     "output_type": "stream",
     "text": [
      "False\n"
     ]
    }
   ],
   "source": [
    "heal = healer__int >= 60 and healer__str >= 50\n",
    "print(heal)"
   ]
  },
  {
   "cell_type": "markdown",
   "metadata": {
    "id": "YFYOvWAJGMxH"
   },
   "source": [
    "<br>\n",
    "\n",
    "__[문제 5: 레벨업]__\n",
    "\n",
    "모든 캐릭터가 사냥을 성공적으로 마쳤습니다. 이제 경험치를 얻어 레벨업을 해야 합니다.\n",
    "\n",
    "\n",
    "각 캐릭터의 경험치가 100 이상인지 print()를 이용해 확인해주세요.\n",
    "\n",
    "<br>\n",
    "\n",
    "경험치는 아래와 같습니다.\n",
    "\n",
    "마법사: 120\n",
    "\n",
    "전사: 150\n",
    "\n",
    "도적: 110\n",
    "\n",
    "힐러: 90\n",
    "\n"
   ]
  },
  {
   "cell_type": "code",
   "execution_count": null,
   "metadata": {
    "colab": {
     "base_uri": "https://localhost:8080/"
    },
    "executionInfo": {
     "elapsed": 11,
     "status": "ok",
     "timestamp": 1752136301471,
     "user": {
      "displayName": "박대범",
      "userId": "08940215049612352458"
     },
     "user_tz": -540
    },
    "id": "TzrpWjt9GMxI",
    "outputId": "198206fd-b793-4ded-a3e9-3a44eba9fbdd"
   },
   "outputs": [
    {
     "name": "stdout",
     "output_type": "stream",
     "text": [
      "True\n",
      "True\n",
      "True\n",
      "False\n"
     ]
    }
   ],
   "source": [
    "mage__exp = 120\n",
    "warrior__exp = 150\n",
    "rouge__exp = 110\n",
    "healer__exp = 90\n",
    "\n",
    "mage__level__up = mage__exp >= 100\n",
    "warrior__level__up = warrior__exp >= 100\n",
    "rouge__level__up = rouge__exp >= 100\n",
    "healer__levlp__up = healer__exp >= 100\n",
    "\n",
    "print(mage__level__up)\n",
    "print(warrior__level__up)\n",
    "print(rouge__level__up)\n",
    "print(healer__levlp__up)\n",
    "\n"
   ]
  }
 ],
 "metadata": {
  "colab": {
   "provenance": []
  },
  "kernelspec": {
   "display_name": "Python 3",
   "name": "python3"
  },
  "language_info": {
   "name": "python"
  }
 },
 "nbformat": 4,
 "nbformat_minor": 0
}
